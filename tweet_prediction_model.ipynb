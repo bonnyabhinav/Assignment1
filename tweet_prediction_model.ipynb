{
  "nbformat": 4,
  "nbformat_minor": 0,
  "metadata": {
    "colab": {
      "name": "tweet_prediction_model.ipynb",
      "provenance": [],
      "collapsed_sections": [],
      "authorship_tag": "ABX9TyO+0hTiCwSCcTRxGoXVWiv2",
      "include_colab_link": true
    },
    "kernelspec": {
      "name": "python3",
      "display_name": "Python 3"
    }
  },
  "cells": [
    {
      "cell_type": "markdown",
      "metadata": {
        "id": "view-in-github",
        "colab_type": "text"
      },
      "source": [
        "<a href=\"https://colab.research.google.com/github/bonnyabhinav/Assignment1/blob/master/tweet_prediction_model.ipynb\" target=\"_parent\"><img src=\"https://colab.research.google.com/assets/colab-badge.svg\" alt=\"Open In Colab\"/></a>"
      ]
    },
    {
      "cell_type": "code",
      "metadata": {
        "id": "K5TgP2bVsuxh"
      },
      "source": [
        "import pandas as pd\n",
        "import numpy as np\n",
        "import nltk\n",
        "from nltk.corpus import stopwords\n",
        "from nltk.tokenize import word_tokenize\n",
        "from nltk.sentiment.vader import SentimentIntensityAnalyzer"
      ],
      "execution_count": 61,
      "outputs": []
    },
    {
      "cell_type": "code",
      "metadata": {
        "id": "WoxlcgcrtMbk"
      },
      "source": [
        "tweet_data = pd.read_csv(\"data2.csv\")\n",
        "tweets = tweet_data[\"text\"]\n",
        "sentiments = []\n",
        "count_pos = []\n",
        "count_neg= []\n",
        "#count_neu= []\n",
        "for i in range(len(tweets)):\n",
        "  sentiment_score = 0\n",
        "  pos_word_list = []\n",
        "  neg_word_list = []\n",
        "  #neu_word_list = []\n",
        "  pos_count = 0\n",
        "  neg_count = 0\n",
        "  #neu_count = 0\n",
        "  tweet_tokens = word_tokenize(tweets[i])\n",
        "  filtered_tokens = []  #[w for w in tweet_tokens if not w in set(stopwords.words(\"English\"))]\n",
        "\n",
        "  stop_words = set(stopwords.words('english')) \n",
        "\n",
        "  for w in tweet_tokens:\n",
        "    if w not in stop_words:\n",
        "      filtered_tokens.append(w)\n",
        "  \n",
        "  tweet_data['text'][i] = filtered_tokens\n",
        "\n",
        "  sia = SentimentIntensityAnalyzer()\n",
        "  for word in filtered_tokens:\n",
        "    if(sia.polarity_scores(word)['compound'])>0.5:\n",
        "      pos_word_list.append(word)\n",
        "      pos_count += 1\n",
        "    elif(sia.polarity_scores(word)['compound'])<-0.5:\n",
        "      neg_word_list.append(word)\n",
        "      neg_count += 1\n",
        "    #else:\n",
        "    #  neu_word_list.append(word)\n",
        "    #  neu_count += 1\n",
        "  \n",
        "  count_pos.append(pos_count)\n",
        "  count_neg.append(neg_count)\n",
        "  #count_neu.append(neu_count)\n",
        "\n",
        "  print(\"Positive_count\",pos_count)\n",
        "  print(\"Negitive_count\",neg_count)\n",
        "  #print(\"Neutral_count\",neu_count)\n",
        "  sentiment_score = (pos_count-neg_count)\n",
        "  print(\"Sentiment_score\",sentiment_score)\n",
        "  if(sentiment_score<0):\n",
        "    sentiments.append(\"negative\")\n",
        "  elif(sentiment_score>=0):\n",
        "    sentiments.append(\"positive\")\n",
        "  #else:\n",
        "  #  sentiments.append(\"neutral\")\n",
        "\n",
        "tweet_data['sentiments'] = sentiments\n",
        "tweet_data['Positive'] = count_pos\n",
        "tweet_data['Negative'] = count_neg\n",
        "#tweet_data['Neutral'] = count_neu\n",
        "\n",
        "print(\"The End!!\")"
      ],
      "execution_count": null,
      "outputs": []
    },
    {
      "cell_type": "code",
      "metadata": {
        "id": "2CBbDvhiqynI"
      },
      "source": [
        ""
      ],
      "execution_count": null,
      "outputs": []
    },
    {
      "cell_type": "code",
      "metadata": {
        "id": "ViBmpcSXw-iJ"
      },
      "source": [
        "print(y_test['negative'])\n",
        "\n",
        "for i in y_test['negative']:\n",
        "  if(i>0):\n",
        "    print(\"reached\")"
      ],
      "execution_count": null,
      "outputs": []
    },
    {
      "cell_type": "code",
      "metadata": {
        "id": "7i7XcTBCnfHL"
      },
      "source": [
        "from sklearn.linear_model import LinearRegression\n",
        "from sklearn.model_selection import train_test_split\n",
        "from sklearn.metrics import mean_squared_error\n",
        "from sklearn.metrics import accuracy_score\n",
        "\n",
        "df = pd.DataFrame(tweet_data, columns=['reply_count','retweet_count','favorite_count','Positive','Negative'])\n",
        "\n",
        "target = pd.get_dummies(tweet_data['sentiments'])\n",
        "print(target)\n",
        "\n",
        "x_train,x_test,y_train,y_test = train_test_split(df,target,test_size=0.2)\n",
        "\n",
        "model = LinearRegression()\n",
        "\n",
        "model.fit(x_train,y_train)\n",
        "\n",
        "y_predict = model.predict(x_test)\n",
        "\n",
        "predPosCount=0\n",
        "predNegCount=0\n",
        "#predNeuCount=0\n",
        "\n",
        "for i in range(len(y_predict)):\n",
        "  if(y_predict[i][0]>y_predict[i][1]):\n",
        "    y_predict[i][0] = 1\n",
        "    y_predict[i][1] = 0\n",
        "    predNegCount +=1\n",
        "  else:\n",
        "    y_predict[i][0] = 0\n",
        "    y_predict[i][1] = 1\n",
        "    predPosCount+=1\n",
        "  #else:\n",
        "  #  y_predict[i][0] = 0\n",
        "  #  y_predict[i][1] = 1\n",
        "  #  y_predict[i][2] = 0\n",
        "  #  predNeuCount+=1\n",
        "\n",
        "print(y_predict)\n",
        "\n",
        "\n",
        "\n",
        "\n",
        "acc = accuracy_score(y_test,y_predict)\n",
        "print(acc)"
      ],
      "execution_count": null,
      "outputs": []
    },
    {
      "cell_type": "code",
      "metadata": {
        "id": "pF8B8sKibup_"
      },
      "source": [
        "tweet_data.to_csv('filtered_tweets2.csv')"
      ],
      "execution_count": 67,
      "outputs": []
    },
    {
      "cell_type": "code",
      "metadata": {
        "id": "UxUvGHGVtAIB",
        "colab": {
          "base_uri": "https://localhost:8080/",
          "height": 17
        },
        "outputId": "c355de1e-cdef-4155-9580-a1623defde6a"
      },
      "source": [
        "from google.colab import files\n",
        "files.download('filtered_tweets2.csv') "
      ],
      "execution_count": 68,
      "outputs": [
        {
          "output_type": "display_data",
          "data": {
            "application/javascript": [
              "\n",
              "    async function download(id, filename, size) {\n",
              "      if (!google.colab.kernel.accessAllowed) {\n",
              "        return;\n",
              "      }\n",
              "      const div = document.createElement('div');\n",
              "      const label = document.createElement('label');\n",
              "      label.textContent = `Downloading \"${filename}\": `;\n",
              "      div.appendChild(label);\n",
              "      const progress = document.createElement('progress');\n",
              "      progress.max = size;\n",
              "      div.appendChild(progress);\n",
              "      document.body.appendChild(div);\n",
              "\n",
              "      const buffers = [];\n",
              "      let downloaded = 0;\n",
              "\n",
              "      const channel = await google.colab.kernel.comms.open(id);\n",
              "      // Send a message to notify the kernel that we're ready.\n",
              "      channel.send({})\n",
              "\n",
              "      for await (const message of channel.messages) {\n",
              "        // Send a message to notify the kernel that we're ready.\n",
              "        channel.send({})\n",
              "        if (message.buffers) {\n",
              "          for (const buffer of message.buffers) {\n",
              "            buffers.push(buffer);\n",
              "            downloaded += buffer.byteLength;\n",
              "            progress.value = downloaded;\n",
              "          }\n",
              "        }\n",
              "      }\n",
              "      const blob = new Blob(buffers, {type: 'application/binary'});\n",
              "      const a = document.createElement('a');\n",
              "      a.href = window.URL.createObjectURL(blob);\n",
              "      a.download = filename;\n",
              "      div.appendChild(a);\n",
              "      a.click();\n",
              "      div.remove();\n",
              "    }\n",
              "  "
            ],
            "text/plain": [
              "<IPython.core.display.Javascript object>"
            ]
          },
          "metadata": {
            "tags": []
          }
        },
        {
          "output_type": "display_data",
          "data": {
            "application/javascript": [
              "download(\"download_8c91e3b5-e974-4468-8222-79a6ca7a7183\", \"filtered_tweets2.csv\", 363468)"
            ],
            "text/plain": [
              "<IPython.core.display.Javascript object>"
            ]
          },
          "metadata": {
            "tags": []
          }
        }
      ]
    },
    {
      "cell_type": "code",
      "metadata": {
        "id": "9Y1XqYepOcbP",
        "colab": {
          "base_uri": "https://localhost:8080/"
        },
        "outputId": "e56ec518-0b26-4442-9755-1bff23706f50"
      },
      "source": [
        "model.score\n",
        "\n",
        "acc = accuracy_score(y_test,y_predict)\n",
        "print(\"Accuracy: \",acc)\n",
        "print(\"R^2 of the Prediction: \",model.score(x_test,y_test))"
      ],
      "execution_count": 69,
      "outputs": [
        {
          "output_type": "stream",
          "text": [
            "Accuracy:  0.9835390946502057\n",
            "R^2 of the Prediction:  0.785976060610357\n"
          ],
          "name": "stdout"
        },
        {
          "output_type": "stream",
          "text": [
            "/usr/local/lib/python3.6/dist-packages/sklearn/base.py:434: FutureWarning: The default value of multioutput (not exposed in score method) will change from 'variance_weighted' to 'uniform_average' in 0.23 to keep consistent with 'metrics.r2_score'. To specify the default value manually and avoid the warning, please either call 'metrics.r2_score' directly or make a custom scorer with 'metrics.make_scorer' (the built-in scorer 'r2' uses multioutput='uniform_average').\n",
            "  \"multioutput='uniform_average').\", FutureWarning)\n"
          ],
          "name": "stderr"
        }
      ]
    },
    {
      "cell_type": "code",
      "metadata": {
        "id": "PGavAmc7qygm",
        "colab": {
          "base_uri": "https://localhost:8080/",
          "height": 281
        },
        "outputId": "12083011-75c3-42f8-97b2-09a5b36105c3"
      },
      "source": [
        "import matplotlib.pyplot as plt\n",
        "\n",
        "posCount=0\n",
        "negCount=0\n",
        "#neuCount=0\n",
        "\n",
        "for i in range(len(tweet_data['sentiments'])):\n",
        "  if(tweet_data['sentiments'][i]=='positive'):\n",
        "    posCount +=1 \n",
        "  if(tweet_data['sentiments'][i]=='negative'):\n",
        "    negCount +=1 \n",
        "  #if(tweet_data['sentiments'][i]=='neutral'):\n",
        "  #  neuCount +=1 \n",
        "\n",
        "\n",
        "test_pos=0\n",
        "test_neg=0\n",
        "#test_neu=0\n",
        "\n",
        "for i in y_test['negative']:\n",
        "  if(i>0):\n",
        "    test_neg +=1\n",
        "#for i in y_test['neutral']:\n",
        "#  if(i>0):\n",
        "#    test_neu +=1 \n",
        "for i in y_test['positive']:\n",
        "  if(i>0):\n",
        "    test_pos +=1 \n",
        "\n",
        "\n",
        "height1 = [test_pos,test_neg]\n",
        "height2 = [predPosCount,predNegCount]\n",
        "sentiment = ['Positive','Negative']\n",
        "y_pos = np.arange(len(sentiment))\n",
        "\n",
        "plt.bar(y_pos, height2)\n",
        "plt.title('Sentiment Measures (NLTK) Actual vs Predicted')\n",
        "plt.xticks(y_pos, sentiment,color='b')\n",
        "\n",
        "plt.bar(y_pos, height1)\n",
        "plt.title('Sentiment Measures (NLTK)')\n",
        "plt.xticks(y_pos, sentiment,color='b')\n",
        "\n",
        "\n",
        "\n",
        "plt.show()"
      ],
      "execution_count": 70,
      "outputs": [
        {
          "output_type": "display_data",
          "data": {
            "image/png": "[encoded data removed]",
            "text/plain": [
              "<Figure size 432x288 with 1 Axes>"
            ]
          },
          "metadata": {
            "tags": [],
            "needs_background": "light"
          }
        }
      ]
    },
    {
      "cell_type": "code",
      "metadata": {
        "id": "uh4zkZm8vrqX",
        "colab": {
          "base_uri": "https://localhost:8080/"
        },
        "outputId": "0988addf-ad7b-4a09-df3d-b3bf24db4ba3"
      },
      "source": [
        "print(test_pos)\n",
        "print(predPosCount)"
      ],
      "execution_count": 71,
      "outputs": [
        {
          "output_type": "stream",
          "text": [
            "226\n",
            "224\n"
          ],
          "name": "stdout"
        }
      ]
    },
    {
      "cell_type": "code",
      "metadata": {
        "id": "ZxaWJd5Dploz",
        "colab": {
          "base_uri": "https://localhost:8080/",
          "height": 366
        },
        "outputId": "d759fad8-14a4-4ddb-b75a-8e80531a6936"
      },
      "source": [
        "print(\"Actual Positive: \",test_pos)\n",
        "print(\"Predicted Positive: \",predPosCount)\n",
        "print(\"Actual Negative: \",test_neg)\n",
        "print(\"Predicted Negative: \",predNegCount)\n",
        "#print(\"Actual Neutral: \",test_neu)\n",
        "#print(\"Predicted Neutral: \",predNeuCount)\n",
        "\n",
        "bar_width =0.35\n",
        "fig, ax = plt.subplots()\n",
        "summer = ax.bar(y_pos, height1, bar_width,\n",
        "                label=\"Actual\")\n",
        "\n",
        "winter = ax.bar(y_pos+bar_width, height2,\n",
        "                 bar_width, label=\"Predicted\")\n",
        "\n",
        "ax.set_xlabel('Sentiments')\n",
        "ax.set_ylabel('Counts')\n",
        "ax.set_title('Sentiment (Actual vs Predicted)')\n",
        "ax.set_xticks(y_pos + bar_width / 2)\n",
        "ax.set_xticklabels([\"Positive\", \"Negative\"])\n",
        "ax.legend()\n",
        "\n",
        "plt.show()"
      ],
      "execution_count": 72,
      "outputs": [
        {
          "output_type": "stream",
          "text": [
            "Actual Positive:  226\n",
            "Predicted Positive:  224\n",
            "Actual Negative:  17\n",
            "Predicted Negative:  19\n"
          ],
          "name": "stdout"
        },
        {
          "output_type": "display_data",
          "data": {
            "image/png": "[encoded data removed]",
            "text/plain": [
              "<Figure size 432x288 with 1 Axes>"
            ]
          },
          "metadata": {
            "tags": [],
            "needs_background": "light"
          }
        }
      ]
    },
    {
      "cell_type": "code",
      "metadata": {
        "id": "G9mQQwb67CrQ",
        "colab": {
          "base_uri": "https://localhost:8080/"
        },
        "outputId": "09f39e67-4578-42ca-e6cc-415e2aea65fb"
      },
      "source": [
        "count1=0\n",
        "for tweet in tweet_data['sentiments']:\n",
        "  if(tweet == \"neutral\"):\n",
        "    count1 +=1\n",
        "print(count1)"
      ],
      "execution_count": 73,
      "outputs": [
        {
          "output_type": "stream",
          "text": [
            "0\n"
          ],
          "name": "stdout"
        }
      ]
    },
    {
      "cell_type": "code",
      "metadata": {
        "id": "MIp_PFM-uPgD",
        "colab": {
          "base_uri": "https://localhost:8080/",
          "height": 126
        },
        "outputId": "e4e62fc7-745d-42a9-b7a2-7a3e297a4439"
      },
      "source": [
        "from google.colab import drive\n",
        "drive.mount('/content/drive')"
      ],
      "execution_count": null,
      "outputs": [
        {
          "output_type": "stream",
          "text": [
            "Go to this URL in a browser: https://accounts.google.com/o/oauth2/auth?client_id=947318989803-6bn6qk8qdgf4n4g3pfee6491hc0brc4i.apps.googleusercontent.com&redirect_uri=urn%3aietf%3awg%3aoauth%3a2.0%3aoob&response_type=code&scope=email%20https%3a%2f%2fwww.googleapis.com%2fauth%2fdocs.test%20https%3a%2f%2fwww.googleapis.com%2fauth%2fdrive%20https%3a%2f%2fwww.googleapis.com%2fauth%2fdrive.photos.readonly%20https%3a%2f%2fwww.googleapis.com%2fauth%2fpeopleapi.readonly\n",
            "\n",
            "Enter your authorization code:\n",
            "··········\n",
            "Mounted at /content/drive\n"
          ],
          "name": "stdout"
        }
      ]
    },
    {
      "cell_type": "code",
      "metadata": {
        "id": "QHoCBZL6uQHZ"
      },
      "source": [
        "from google.colab import files\n",
        "uploaded = files.upload()"
      ],
      "execution_count": null,
      "outputs": []
    },
    {
      "cell_type": "code",
      "metadata": {
        "id": "1dI5jdsuuw5T"
      },
      "source": [
        "ls\n"
      ],
      "execution_count": null,
      "outputs": []
    },
    {
      "cell_type": "code",
      "metadata": {
        "id": "UVPYMcJKuafL",
        "colab": {
          "base_uri": "https://localhost:8080/"
        },
        "outputId": "4dd3efb1-84da-47c1-bba3-22ee49000b98"
      },
      "source": [
        "nltk.download('punkt')"
      ],
      "execution_count": 8,
      "outputs": [
        {
          "output_type": "stream",
          "text": [
            "[nltk_data] Downloading package punkt to /root/nltk_data...\n",
            "[nltk_data]   Package punkt is already up-to-date!\n"
          ],
          "name": "stdout"
        },
        {
          "output_type": "execute_result",
          "data": {
            "text/plain": [
              "True"
            ]
          },
          "metadata": {
            "tags": []
          },
          "execution_count": 8
        }
      ]
    },
    {
      "cell_type": "code",
      "metadata": {
        "id": "i1QQFMAlA98q",
        "colab": {
          "base_uri": "https://localhost:8080/"
        },
        "outputId": "44fd52a3-86bd-498c-b693-a8c1f6fb9b02"
      },
      "source": [
        "nltk.download('stopwords')"
      ],
      "execution_count": 7,
      "outputs": [
        {
          "output_type": "stream",
          "text": [
            "[nltk_data] Downloading package stopwords to /root/nltk_data...\n",
            "[nltk_data]   Unzipping corpora/stopwords.zip.\n"
          ],
          "name": "stdout"
        },
        {
          "output_type": "execute_result",
          "data": {
            "text/plain": [
              "True"
            ]
          },
          "metadata": {
            "tags": []
          },
          "execution_count": 7
        }
      ]
    },
    {
      "cell_type": "code",
      "metadata": {
        "id": "oKZEUb9_A-EE",
        "colab": {
          "base_uri": "https://localhost:8080/"
        },
        "outputId": "258a257b-e1a9-496c-c508-36a08d36187a"
      },
      "source": [
        "nltk.download('punkt')"
      ],
      "execution_count": 4,
      "outputs": [
        {
          "output_type": "stream",
          "text": [
            "[nltk_data] Downloading package punkt to /root/nltk_data...\n",
            "[nltk_data]   Unzipping tokenizers/punkt.zip.\n"
          ],
          "name": "stdout"
        },
        {
          "output_type": "execute_result",
          "data": {
            "text/plain": [
              "True"
            ]
          },
          "metadata": {
            "tags": []
          },
          "execution_count": 4
        }
      ]
    }
  ]
}